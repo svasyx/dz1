{
  "nbformat": 4,
  "nbformat_minor": 0,
  "metadata": {
    "colab": {
      "name": "РР.ipynb",
      "provenance": [],
      "collapsed_sections": [],
      "include_colab_link": true
    },
    "kernelspec": {
      "name": "python3",
      "display_name": "Python 3"
    },
    "language_info": {
      "name": "python"
    }
  },
  "cells": [
    {
      "cell_type": "markdown",
      "metadata": {
        "id": "view-in-github",
        "colab_type": "text"
      },
      "source": [
        "<a href=\"https://colab.research.google.com/github/svasyx/dz1/blob/master/%D0%A0%D0%A0.ipynb\" target=\"_parent\"><img src=\"https://colab.research.google.com/assets/colab-badge.svg\" alt=\"Open In Colab\"/></a>"
      ]
    },
    {
      "cell_type": "markdown",
      "source": [
        "# Розрахункова робота \n",
        "Васянович Вячеслав ТА-03 31 варіант\n",
        "---"
      ],
      "metadata": {
        "id": "tuo2n8GUZrxt"
      }
    },
    {
      "cell_type": "markdown",
      "source": [
        "## Завдання 31\n",
        "Дано одноємнісний об’єкт (гідравлічна проточна ємність із постійним діаметром горизонтального перерізу D=0,3 м). Рідина в ємність надходить в кількості Gin, а відводиться з витратою Gout,1 та Gout,2. Процес накопичення рідини в ємності визначається рівнем рідини z. У початковому стаціонарному режимі pin,0=2 м.вод.ст.; pout,1,0=0,1 м.вод.ст.; pout,2,0=0,02 м.вод.ст.; z0=0,3 м.вод.ст.; z1=0,1 м.вод.ст.; din,0=0,04 м; dout,1,0=0,04 м; dout,2,0=0,02 м.  Коефіцієнт витрати вхідного трубопроводу αin=0,03 м0,5/сек, αout,1=0,01 м0,5/сек.  p; α; din, dout,2 – не змінюються. Позначення: р – надлишкові тиски, d - діаметр прохідного перерізу.\n",
        "\n",
        "![213.png](data:image/png;base64,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)"
      ],
      "metadata": {
        "id": "rl9L9Pk2vPZg"
      }
    },
    {
      "cell_type": "markdown",
      "source": [
        "### Складання аналітичної моделі\n",
        "Запишемо в загальному вигляді диференціальне рівняння перехідного процесу для посудини. Отже, за елементарний проміжок часу   для посудини рівняння масового балансу має вигляд:\n",
        "\n",
        "$$\\rho · F · dz(t) = G_{in}(t) · dt - G_{out1}(t) · dt - G_{out2}(t) · dt$$\n",
        "\n",
        "або\n",
        "\n",
        "$$\\rho · F · \\frac {dz(t)}{dt} = G_{in}(t) - G_{out1}(t) - G_{out2}(t)$$\n",
        "\n",
        "де  $\\rho$ - густина рідини, $кг/м^3$ ;\n",
        "\n",
        "$F$ - площа поперечного перерізу посудини, $м^2$\n",
        " \n",
        "$$F = \\frac{\\pi · D^2}{4}$$\n",
        "\n",
        "\n",
        "$D$ - діаметр поперечного перерізу посудини, $м$;\n",
        "\n",
        "$z(t)$ - рівень води в посудині, м;\n",
        "\n",
        "$G_{in}(t)$, $G_{out1}(t)$,$G_{out2}(t)$  - масові витрати, $кг/сек$;\n",
        "$$G_{in}(t) = \\rho · a_{in}(t) · x_{in}(t) · \\sqrt{p_{in}(t) - z_{0}(t)}$$\n",
        "$$G_{out1}(t) = \\rho · a_{out1}(t) · x_{out1}(t) · \\sqrt{z_{0}(t) - p_{out1}(t)}$$\n",
        "$$G_{out2}(t) = \\rho · a_{out2}(t) · x_{out2}(t) · \\sqrt{z_{0}(t) - z_{1}(t) - p_{out2}(t)}$$\n",
        "\n",
        "$a_{in}(t)$, $a_{out1}(t)$, $a_{out2}(t)$ - коефіцієнти витрати, $м^{0,5}/сек$;\n",
        "$x_{in}(t)$, $x_{out1}(t)$, $x_{out2}(t)$ - площі перерізів для проходу рідини через вентилі, $м^2$, які за умови круглої форми визначаються як:\n",
        "$$x_{in} = \\frac{\\pi · d^2_{in}}{4}$$\n",
        "$$x_{out1}(t) = \\frac{\\pi · d^2_{out1}}{4}$$\n",
        "$$x_{out2} = \\frac{\\pi · d^2_{out2,0}}{4}$$\n",
        "\n",
        "$d_{in}$, $d_{out1}(t)$, $d_{out2}$ - діаметри перерізів для проходу рідини через вентилі, $м$;\n",
        "$p_{in}$, $p_{out1}$, $p_{out2}$ - надлишкові тиски, $м$. \n",
        "\n",
        "Врахувавши, що $p$, $a$, $d_{in}$ , $d_{out2}$ – не змінюються в часі, рівняння масового балансу можна записати у вигляді:\n",
        "\n",
        "$$ F · \\frac {dz(t)}{dt} =  a_{in,0} · x_{in,0} · \\sqrt{p_{in} - z_{0}(t)} - a_{out1,0} · x_{out1}(t) · \\sqrt{z_{0}(t) - p_{out1,0}} - a_{out2,0} · x_{out2} · \\sqrt{z_{0}(t) - z_{1}(t) - p_{out2,0}} $$\n",
        "\n",
        "де індекс $0$ добавлено для позначення параметрів, що не змінюються у перехідному процесі."
      ],
      "metadata": {
        "id": "H2OfiLRMSSuE"
      }
    },
    {
      "cell_type": "markdown",
      "source": [
        "В даному прикладі не задано коефіцієнт витрати вихідного вентиля 2.\n",
        "Використовуючи залежність:  $$G_{in}(t) =  G_{out1}(t) + G_{out2}(t)$$\n",
        "де  $G_{in,0}$, $G_{out1,0}$, $G_{out2,0}$ - масові витрати ($0$ добавлено для позначення параметрів у стаціонарному режимі або незмінності параметрів під час перехідного процесу), кг/сек\n",
        "\n",
        "$G_{in}(t)$, $G_{out1}(t)$,$G_{out2}(t)$  - масові витрати, $кг/сек$;\n",
        "$$G_{in}(t) = \\rho · a_{in,0} · x_{in} · \\sqrt{p_{in,0} - z_{0}(t)}$$\n",
        "$$G_{out1}(t) = \\rho · a_{out1,0} · x_{out1}(t) · \\sqrt{z_{0}(t) - p_{out1,0}}$$\n",
        "$$G_{out2}(t) = \\rho · a_{out2,0} · x_{out2,0} · \\sqrt{z_{0}(t) - z_{1}(t) - p_{out2,0}}$$\n",
        "\n",
        "Таким чином рівняння масового балансу можгна записати у вигляді:\n",
        "\n",
        "$$a_{in}(t) · x_{in,0} · \\sqrt{p_{in,0} - z_{0}(t)} = a_{out1,0} · x_{out1}(t) · \\sqrt{z_{0}(t) - p_{out1,0}} + a_{out2,0} · x_{out2,0} · \\sqrt{z_{0}(t) - z_{1}(t) - p_{out2,0}} $$\n",
        "\n",
        "З даного рівняння можна вивести значення коефіцієнта витрати вихідного вентиля:\n",
        "\n",
        "$$a_{out2,0} = \\frac {a_{in,0} · \\frac{\\pi · d^2_{in,0}}{4} · \\sqrt{p_{in,0} - z_{0}(t)}-a_{out1,0} · \\frac{\\pi · d^2_{out1}(t)}{4} · \\sqrt{z_{0}(t) - p_{out1,0}}} {\\frac{\\pi · d^2_{out2,0}}{4} · \\sqrt{z_0 - z_1 - p_{out2,0}}}$$\n",
        "\n",
        "Отримані диференціальні рівняння реалізуємо в вигляді комп'ютерної моделі на мові програмування Python."
      ],
      "metadata": {
        "id": "ml-Ko-EJl-JF"
      }
    },
    {
      "cell_type": "code",
      "source": [
        "import numpy as np\n",
        "from scipy.integrate import odeint\n",
        "import matplotlib.pyplot as plt\n",
        "import math\n",
        "\n",
        "pin_0 = 2\n",
        "z0_0 = 0.3\n",
        "z1_0 = 0.1\n",
        "din_0 = 0.04\n",
        "dout1_0 = 0.04\n",
        "dout2_0 = 0.02\n",
        "pout1_0 = 0.1\n",
        "pout2_0 = 0.02\n",
        "D = 0.3\n",
        "F = (math.pi*D**2)/4\n",
        "ain = 0.03\n",
        "aout1_0 = 0.01\n",
        "\n",
        "xin_0 = (math.pi*din_0**2)/4\n",
        "xout1_0 = (math.pi*dout1_0**2)/4\n",
        "xout2_0 = (math.pi*dout2_0**2)/4\n",
        "\n",
        "\n",
        "aout2_0 = (ain*xin_0*math.sqrt(pin_0-z0_0) - aout1_0*xout1_0*math.sqrt(z0_0-pout1_0))/(xout2_0*math.sqrt(z0_0-z1_0-pout2_0))\n",
        "\n",
        "\n",
        "def Dynamic (z,t,u):\n",
        "\n",
        "  xout1 = u\n",
        "  z0, z1 =z\n",
        "  dz_dt = (ain*xin_0*math.sqrt(pin_0-z0)-aout1_0*xout1*math.sqrt(z0-pout1_0)-aout2_0*xout2_0*math.sqrt(z0-z1-pout2_0))/F\n",
        "  return (dz_dt,0)\n",
        "\n",
        "# initial condition\n",
        "\n",
        "# time points\n",
        "t = np.linspace(0,3000,10000)\n",
        "u0 = 20*xout1_0 #Задаємо збурення системі\n",
        "z0 = [z0_0,z1_0]\n",
        "# solve ODE\n",
        "y = odeint(Dynamic,z0,t,(u0,)).round(4)\n",
        "\n",
        "\n",
        "# plot results\n",
        "plt.plot(t,y)\n",
        "plt.xlabel('time')\n",
        "plt.ylabel('y(t)')\n",
        "plt.show()\n"
      ],
      "metadata": {
        "colab": {
          "base_uri": "https://localhost:8080/",
          "height": 279
        },
        "id": "ggD8GL8U8yx5",
        "outputId": "0d19fbf6-1f82-4995-ba98-a09ffa9f5996"
      },
      "execution_count": 83,
      "outputs": [
        {
          "output_type": "display_data",
          "data": {
            "text/plain": [
              "<Figure size 432x288 with 1 Axes>"
            ],
            "image/png": "[encoded data removed]"
          },
          "metadata": {
            "needs_background": "light"
          }
        }
      ]
    },
    {
      "cell_type": "markdown",
      "source": [
        ""
      ],
      "metadata": {
        "id": "wphH1nibgHIX"
      }
    },
    {
      "cell_type": "markdown",
      "source": [
        ""
      ],
      "metadata": {
        "id": "29E3k5j0keDR"
      }
    }
  ]
}